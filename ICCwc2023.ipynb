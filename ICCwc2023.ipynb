{
 "cells": [
  {
   "cell_type": "markdown",
   "id": "38b54bbc-03df-46c8-8666-f5984f4853b7",
   "metadata": {},
   "source": [
    "# ICC World cup 2023 Data Analysis\n",
    "<img src=\"https://tse2.mm.bing.net/th/id/OIP.jeYvhVMLSLfX3o9UNvEZQwHaDs?pid=Api&P=0&h=180\" alt=\"Description\" width=\"200\" height=\"400\"/>\n"
   ]
  },
  {
   "cell_type": "code",
   "execution_count": 1,
   "id": "09c8308a-7efa-40ca-8d00-11b860348438",
   "metadata": {},
   "outputs": [],
   "source": [
    "# This step is to import all the libraries that we are going to use in this project\n",
    "\n",
    "import pandas as pd\n",
    "import numpy as np\n",
    "\n",
    "import matplotlib.pyplot as plt\n",
    "import seaborn as sns"
   ]
  },
  {
   "cell_type": "code",
   "execution_count": 2,
   "id": "7f091a89-0499-49c6-aeeb-4c42488d3c58",
   "metadata": {},
   "outputs": [],
   "source": [
    "# Importing files in the jupyter notebook.\n",
    "\n",
    "wc_matches = pd.read_csv(r\"C:\\Users\\nivya\\Downloads\\matches.csv\")"
   ]
  },
  {
   "cell_type": "code",
   "execution_count": 3,
   "id": "0a2ea9bd-af65-4d1c-aeac-014a44ca5141",
   "metadata": {},
   "outputs": [
    {
     "data": {
      "text/html": [
       "<div>\n",
       "<style scoped>\n",
       "    .dataframe tbody tr th:only-of-type {\n",
       "        vertical-align: middle;\n",
       "    }\n",
       "\n",
       "    .dataframe tbody tr th {\n",
       "        vertical-align: top;\n",
       "    }\n",
       "\n",
       "    .dataframe thead th {\n",
       "        text-align: right;\n",
       "    }\n",
       "</style>\n",
       "<table border=\"1\" class=\"dataframe\">\n",
       "  <thead>\n",
       "    <tr style=\"text-align: right;\">\n",
       "      <th></th>\n",
       "      <th>season</th>\n",
       "      <th>team1</th>\n",
       "      <th>team2</th>\n",
       "      <th>date</th>\n",
       "      <th>match_number</th>\n",
       "      <th>venue</th>\n",
       "      <th>city</th>\n",
       "      <th>toss_winner</th>\n",
       "      <th>toss_decision</th>\n",
       "      <th>player_of_match</th>\n",
       "      <th>umpire1</th>\n",
       "      <th>umpire2</th>\n",
       "      <th>reserve_umpire</th>\n",
       "      <th>match_referee</th>\n",
       "      <th>winner</th>\n",
       "      <th>winner_runs</th>\n",
       "      <th>winner_wickets</th>\n",
       "      <th>match_type</th>\n",
       "    </tr>\n",
       "  </thead>\n",
       "  <tbody>\n",
       "    <tr>\n",
       "      <th>0</th>\n",
       "      <td>2023/24</td>\n",
       "      <td>England</td>\n",
       "      <td>New Zealand</td>\n",
       "      <td>2023/10/05</td>\n",
       "      <td>1</td>\n",
       "      <td>Narendra Modi Stadium</td>\n",
       "      <td>Ahmedabad</td>\n",
       "      <td>New Zealand</td>\n",
       "      <td>field</td>\n",
       "      <td>R Ravindra</td>\n",
       "      <td>HDPK Dharmasena</td>\n",
       "      <td>Nitin Menon</td>\n",
       "      <td>Sharfuddoula</td>\n",
       "      <td>J Srinath</td>\n",
       "      <td>New Zealand</td>\n",
       "      <td>NaN</td>\n",
       "      <td>9.0</td>\n",
       "      <td>Group</td>\n",
       "    </tr>\n",
       "    <tr>\n",
       "      <th>1</th>\n",
       "      <td>2023/24</td>\n",
       "      <td>Pakistan</td>\n",
       "      <td>Netherlands</td>\n",
       "      <td>2023/10/06</td>\n",
       "      <td>2</td>\n",
       "      <td>Rajiv Gandhi International Stadium</td>\n",
       "      <td>Hyderabad</td>\n",
       "      <td>Netherlands</td>\n",
       "      <td>field</td>\n",
       "      <td>Saud Shakeel</td>\n",
       "      <td>AT Holdstock</td>\n",
       "      <td>CM Brown</td>\n",
       "      <td>PR Reiffel</td>\n",
       "      <td>JJ Crowe</td>\n",
       "      <td>Pakistan</td>\n",
       "      <td>81.0</td>\n",
       "      <td>NaN</td>\n",
       "      <td>Group</td>\n",
       "    </tr>\n",
       "    <tr>\n",
       "      <th>2</th>\n",
       "      <td>2023/24</td>\n",
       "      <td>Afghanistan</td>\n",
       "      <td>Bangladesh</td>\n",
       "      <td>2023/10/07</td>\n",
       "      <td>3</td>\n",
       "      <td>Himachal Pradesh Cricket Association Stadium</td>\n",
       "      <td>Dharamsala</td>\n",
       "      <td>Bangladesh</td>\n",
       "      <td>field</td>\n",
       "      <td>Mehedi Hasan Miraz</td>\n",
       "      <td>JS Wilson</td>\n",
       "      <td>HDPK Dharmasena</td>\n",
       "      <td>M Erasmus</td>\n",
       "      <td>AJ Pycroft</td>\n",
       "      <td>Bangladesh</td>\n",
       "      <td>NaN</td>\n",
       "      <td>6.0</td>\n",
       "      <td>Group</td>\n",
       "    </tr>\n",
       "    <tr>\n",
       "      <th>3</th>\n",
       "      <td>2023/24</td>\n",
       "      <td>South Africa</td>\n",
       "      <td>Sri Lanka</td>\n",
       "      <td>2023/10/07</td>\n",
       "      <td>4</td>\n",
       "      <td>Arun Jaitley Stadium</td>\n",
       "      <td>Delhi</td>\n",
       "      <td>Sri Lanka</td>\n",
       "      <td>field</td>\n",
       "      <td>AK Markram</td>\n",
       "      <td>RK Illingworth</td>\n",
       "      <td>Sharfuddoula</td>\n",
       "      <td>AG Wharf</td>\n",
       "      <td>J Srinath</td>\n",
       "      <td>South Africa</td>\n",
       "      <td>102.0</td>\n",
       "      <td>NaN</td>\n",
       "      <td>Group</td>\n",
       "    </tr>\n",
       "    <tr>\n",
       "      <th>4</th>\n",
       "      <td>2023/24</td>\n",
       "      <td>Australia</td>\n",
       "      <td>India</td>\n",
       "      <td>2023/10/08</td>\n",
       "      <td>5</td>\n",
       "      <td>MA Chidambaram Stadium</td>\n",
       "      <td>Chennai</td>\n",
       "      <td>Australia</td>\n",
       "      <td>bat</td>\n",
       "      <td>KL Rahul</td>\n",
       "      <td>CB Gaffaney</td>\n",
       "      <td>RA Kettleborough</td>\n",
       "      <td>AT Holdstock</td>\n",
       "      <td>RB Richardson</td>\n",
       "      <td>India</td>\n",
       "      <td>NaN</td>\n",
       "      <td>6.0</td>\n",
       "      <td>Group</td>\n",
       "    </tr>\n",
       "  </tbody>\n",
       "</table>\n",
       "</div>"
      ],
      "text/plain": [
       "    season         team1        team2        date  match_number  \\\n",
       "0  2023/24       England  New Zealand  2023/10/05             1   \n",
       "1  2023/24      Pakistan  Netherlands  2023/10/06             2   \n",
       "2  2023/24   Afghanistan   Bangladesh  2023/10/07             3   \n",
       "3  2023/24  South Africa    Sri Lanka  2023/10/07             4   \n",
       "4  2023/24     Australia        India  2023/10/08             5   \n",
       "\n",
       "                                          venue        city  toss_winner  \\\n",
       "0                         Narendra Modi Stadium   Ahmedabad  New Zealand   \n",
       "1            Rajiv Gandhi International Stadium   Hyderabad  Netherlands   \n",
       "2  Himachal Pradesh Cricket Association Stadium  Dharamsala   Bangladesh   \n",
       "3                          Arun Jaitley Stadium       Delhi    Sri Lanka   \n",
       "4                        MA Chidambaram Stadium     Chennai    Australia   \n",
       "\n",
       "  toss_decision     player_of_match          umpire1           umpire2  \\\n",
       "0         field          R Ravindra  HDPK Dharmasena       Nitin Menon   \n",
       "1         field        Saud Shakeel     AT Holdstock          CM Brown   \n",
       "2         field  Mehedi Hasan Miraz        JS Wilson   HDPK Dharmasena   \n",
       "3         field          AK Markram   RK Illingworth      Sharfuddoula   \n",
       "4           bat            KL Rahul      CB Gaffaney  RA Kettleborough   \n",
       "\n",
       "  reserve_umpire  match_referee        winner  winner_runs  winner_wickets  \\\n",
       "0   Sharfuddoula      J Srinath   New Zealand          NaN             9.0   \n",
       "1     PR Reiffel       JJ Crowe      Pakistan         81.0             NaN   \n",
       "2      M Erasmus     AJ Pycroft    Bangladesh          NaN             6.0   \n",
       "3       AG Wharf      J Srinath  South Africa        102.0             NaN   \n",
       "4   AT Holdstock  RB Richardson         India          NaN             6.0   \n",
       "\n",
       "  match_type  \n",
       "0      Group  \n",
       "1      Group  \n",
       "2      Group  \n",
       "3      Group  \n",
       "4      Group  "
      ]
     },
     "execution_count": 3,
     "metadata": {},
     "output_type": "execute_result"
    }
   ],
   "source": [
    "# reading file in jupyter notebook\n",
    "\n",
    "wc_matches.head()"
   ]
  },
  {
   "cell_type": "markdown",
   "id": "600f21dd-a2c6-4037-9340-6d6b68ff0067",
   "metadata": {},
   "source": [
    "![green-divider](https://user-images.githubusercontent.com/7065401/52071924-c003ad80-2562-11e9-8297-1c6595f8a7ff.png)\n"
   ]
  },
  {
   "cell_type": "markdown",
   "id": "2a969039-b666-4d19-9487-1a42b33ca31f",
   "metadata": {},
   "source": [
    "# 1. Data filtering and cleaning 🧹"
   ]
  },
  {
   "cell_type": "code",
   "execution_count": 53,
   "id": "05d2100d-22ca-46f6-8169-bdcf6eaeb909",
   "metadata": {},
   "outputs": [
    {
     "name": "stdout",
     "output_type": "stream",
     "text": [
      "<class 'pandas.core.frame.DataFrame'>\n",
      "RangeIndex: 48 entries, 0 to 47\n",
      "Data columns (total 15 columns):\n",
      " #   Column           Non-Null Count  Dtype \n",
      "---  ------           --------------  ----- \n",
      " 0   season           48 non-null     object\n",
      " 1   team1            48 non-null     object\n",
      " 2   team2            48 non-null     object\n",
      " 3   date             48 non-null     object\n",
      " 4   match_number     48 non-null     int64 \n",
      " 5   venue            48 non-null     object\n",
      " 6   city             48 non-null     object\n",
      " 7   toss_winner      48 non-null     object\n",
      " 8   toss_decision    48 non-null     object\n",
      " 9   player_of_match  48 non-null     object\n",
      " 10  umpire1          48 non-null     object\n",
      " 11  umpire2          48 non-null     object\n",
      " 12  winner           48 non-null     object\n",
      " 13  winner_runs      48 non-null     int64 \n",
      " 14  winner_wickets   48 non-null     int64 \n",
      "dtypes: int64(3), object(12)\n",
      "memory usage: 5.8+ KB\n"
     ]
    }
   ],
   "source": [
    "wc_matches.info()"
   ]
  },
  {
   "cell_type": "code",
   "execution_count": 5,
   "id": "8b50b973-d7f8-4538-8990-dfa33d2752f9",
   "metadata": {},
   "outputs": [
    {
     "data": {
      "text/plain": [
       "season              0\n",
       "team1               0\n",
       "team2               0\n",
       "date                0\n",
       "match_number        0\n",
       "venue               0\n",
       "city                0\n",
       "toss_winner         0\n",
       "toss_decision       0\n",
       "player_of_match     0\n",
       "umpire1             0\n",
       "umpire2             0\n",
       "reserve_umpire      1\n",
       "match_referee       0\n",
       "winner              0\n",
       "winner_runs        24\n",
       "winner_wickets     24\n",
       "match_type          0\n",
       "dtype: int64"
      ]
     },
     "execution_count": 5,
     "metadata": {},
     "output_type": "execute_result"
    }
   ],
   "source": [
    "# finding the null values in the data\n",
    "\n",
    "wc_matches.isnull().sum()"
   ]
  },
  {
   "cell_type": "code",
   "execution_count": 6,
   "id": "b22e2313-2dfe-4491-b7f6-ea4b39275d39",
   "metadata": {},
   "outputs": [],
   "source": [
    "# Filling null values to 0\n",
    "\n",
    "wc_matches.fillna(0, inplace = True)"
   ]
  },
  {
   "cell_type": "code",
   "execution_count": 7,
   "id": "9090d107-9a21-4997-bf0e-784d18545837",
   "metadata": {},
   "outputs": [],
   "source": [
    "# changing the data type for the columns which have unappropritedata type\n",
    "\n",
    "wc_matches[[\"winner_runs\",\"winner_wickets\"]] = wc_matches[[\"winner_runs\",\"winner_wickets\"]].astype(int)"
   ]
  },
  {
   "cell_type": "code",
   "execution_count": 8,
   "id": "66d52102-26ec-4c45-8b96-ec5665226d59",
   "metadata": {},
   "outputs": [
    {
     "name": "stdout",
     "output_type": "stream",
     "text": [
      "<class 'pandas.core.frame.DataFrame'>\n",
      "RangeIndex: 48 entries, 0 to 47\n",
      "Data columns (total 18 columns):\n",
      " #   Column           Non-Null Count  Dtype \n",
      "---  ------           --------------  ----- \n",
      " 0   season           48 non-null     object\n",
      " 1   team1            48 non-null     object\n",
      " 2   team2            48 non-null     object\n",
      " 3   date             48 non-null     object\n",
      " 4   match_number     48 non-null     int64 \n",
      " 5   venue            48 non-null     object\n",
      " 6   city             48 non-null     object\n",
      " 7   toss_winner      48 non-null     object\n",
      " 8   toss_decision    48 non-null     object\n",
      " 9   player_of_match  48 non-null     object\n",
      " 10  umpire1          48 non-null     object\n",
      " 11  umpire2          48 non-null     object\n",
      " 12  reserve_umpire   48 non-null     object\n",
      " 13  match_referee    48 non-null     object\n",
      " 14  winner           48 non-null     object\n",
      " 15  winner_runs      48 non-null     int64 \n",
      " 16  winner_wickets   48 non-null     int64 \n",
      " 17  match_type       48 non-null     object\n",
      "dtypes: int64(3), object(15)\n",
      "memory usage: 6.9+ KB\n"
     ]
    }
   ],
   "source": [
    "# Recheking the changes we made i.e. null values equals to 0 and changing datatypes float to int\n",
    "\n",
    "wc_matches.info()"
   ]
  },
  {
   "cell_type": "code",
   "execution_count": 9,
   "id": "ec041d55-5d80-4415-bff6-bf997d6ca4b4",
   "metadata": {},
   "outputs": [],
   "source": [
    "# Droping the unwanated columns from the data\n",
    "\n",
    "wc_matches.drop([\"match_type\",\"reserve_umpire\",\"match_referee\"],axis = 1, inplace = True)"
   ]
  },
  {
   "cell_type": "code",
   "execution_count": 10,
   "id": "8a3cb0fd-2560-40a7-b04c-6afb81f687f6",
   "metadata": {},
   "outputs": [
    {
     "data": {
      "text/plain": [
       "Index(['season', 'team1', 'team2', 'date', 'match_number', 'venue', 'city',\n",
       "       'toss_winner', 'toss_decision', 'player_of_match', 'umpire1', 'umpire2',\n",
       "       'winner', 'winner_runs', 'winner_wickets'],\n",
       "      dtype='object')"
      ]
     },
     "execution_count": 10,
     "metadata": {},
     "output_type": "execute_result"
    }
   ],
   "source": [
    "wc_matches.columns"
   ]
  },
  {
   "cell_type": "code",
   "execution_count": 11,
   "id": "1138f631-9f99-4359-89cd-e3aca6b8dd56",
   "metadata": {},
   "outputs": [
    {
     "data": {
      "text/html": [
       "<div>\n",
       "<style scoped>\n",
       "    .dataframe tbody tr th:only-of-type {\n",
       "        vertical-align: middle;\n",
       "    }\n",
       "\n",
       "    .dataframe tbody tr th {\n",
       "        vertical-align: top;\n",
       "    }\n",
       "\n",
       "    .dataframe thead th {\n",
       "        text-align: right;\n",
       "    }\n",
       "</style>\n",
       "<table border=\"1\" class=\"dataframe\">\n",
       "  <thead>\n",
       "    <tr style=\"text-align: right;\">\n",
       "      <th></th>\n",
       "      <th>season</th>\n",
       "      <th>team1</th>\n",
       "      <th>team2</th>\n",
       "      <th>date</th>\n",
       "      <th>match_number</th>\n",
       "      <th>venue</th>\n",
       "      <th>city</th>\n",
       "      <th>toss_winner</th>\n",
       "      <th>toss_decision</th>\n",
       "      <th>player_of_match</th>\n",
       "      <th>umpire1</th>\n",
       "      <th>umpire2</th>\n",
       "      <th>winner</th>\n",
       "      <th>winner_runs</th>\n",
       "      <th>winner_wickets</th>\n",
       "    </tr>\n",
       "  </thead>\n",
       "  <tbody>\n",
       "    <tr>\n",
       "      <th>0</th>\n",
       "      <td>2023/24</td>\n",
       "      <td>England</td>\n",
       "      <td>New Zealand</td>\n",
       "      <td>2023/10/05</td>\n",
       "      <td>1</td>\n",
       "      <td>Narendra Modi Stadium</td>\n",
       "      <td>Ahmedabad</td>\n",
       "      <td>New Zealand</td>\n",
       "      <td>field</td>\n",
       "      <td>R Ravindra</td>\n",
       "      <td>HDPK Dharmasena</td>\n",
       "      <td>Nitin Menon</td>\n",
       "      <td>New Zealand</td>\n",
       "      <td>0</td>\n",
       "      <td>9</td>\n",
       "    </tr>\n",
       "    <tr>\n",
       "      <th>1</th>\n",
       "      <td>2023/24</td>\n",
       "      <td>Pakistan</td>\n",
       "      <td>Netherlands</td>\n",
       "      <td>2023/10/06</td>\n",
       "      <td>2</td>\n",
       "      <td>Rajiv Gandhi International Stadium</td>\n",
       "      <td>Hyderabad</td>\n",
       "      <td>Netherlands</td>\n",
       "      <td>field</td>\n",
       "      <td>Saud Shakeel</td>\n",
       "      <td>AT Holdstock</td>\n",
       "      <td>CM Brown</td>\n",
       "      <td>Pakistan</td>\n",
       "      <td>81</td>\n",
       "      <td>0</td>\n",
       "    </tr>\n",
       "  </tbody>\n",
       "</table>\n",
       "</div>"
      ],
      "text/plain": [
       "    season     team1        team2        date  match_number  \\\n",
       "0  2023/24   England  New Zealand  2023/10/05             1   \n",
       "1  2023/24  Pakistan  Netherlands  2023/10/06             2   \n",
       "\n",
       "                                venue       city  toss_winner toss_decision  \\\n",
       "0               Narendra Modi Stadium  Ahmedabad  New Zealand         field   \n",
       "1  Rajiv Gandhi International Stadium  Hyderabad  Netherlands         field   \n",
       "\n",
       "  player_of_match          umpire1      umpire2       winner  winner_runs  \\\n",
       "0      R Ravindra  HDPK Dharmasena  Nitin Menon  New Zealand            0   \n",
       "1    Saud Shakeel     AT Holdstock     CM Brown     Pakistan           81   \n",
       "\n",
       "   winner_wickets  \n",
       "0               9  \n",
       "1               0  "
      ]
     },
     "execution_count": 11,
     "metadata": {},
     "output_type": "execute_result"
    }
   ],
   "source": [
    "wc_matches.head(2)"
   ]
  },
  {
   "cell_type": "markdown",
   "id": "e3e25b23-6904-41fd-850f-556ceee4a8f5",
   "metadata": {},
   "source": [
    "![purple-divider](https://user-images.githubusercontent.com/7065401/52071927-c1cd7100-2562-11e9-908a-dde91ba14e59.png)\n"
   ]
  },
  {
   "cell_type": "markdown",
   "id": "d5e620b5-951c-42e1-8d48-c9e6487412d6",
   "metadata": {},
   "source": [
    "# 2. Exploratory Data Analysis"
   ]
  },
  {
   "cell_type": "markdown",
   "id": "9b715a80-0a28-4497-8968-c9c6e9240648",
   "metadata": {},
   "source": [
    "## 1. Which team won the most matches?"
   ]
  },
  {
   "cell_type": "code",
   "execution_count": 12,
   "id": "f02cfbd8-c8ea-4014-bfa3-234f164bbd61",
   "metadata": {},
   "outputs": [
    {
     "name": "stdout",
     "output_type": "stream",
     "text": [
      "The team won the most matches is: India\n"
     ]
    }
   ],
   "source": [
    "team_wins = wc_matches[\"winner\"].value_counts()\n",
    "top_team = team_wins.head(1)\n",
    "\n",
    "print(f\"The team won the most matches is: {top_team.index[0]}\")"
   ]
  },
  {
   "cell_type": "code",
   "execution_count": 30,
   "id": "697103c3-3887-4641-a457-d095e320ba43",
   "metadata": {},
   "outputs": [
    {
     "data": {
      "image/png": "[encoded data removed]",
      "text/plain": [
       "<Figure size 1000x600 with 1 Axes>"
      ]
     },
     "metadata": {},
     "output_type": "display_data"
    }
   ],
   "source": [
    "plt.figure(figsize=(10, 6))\n",
    "sns.barplot(x=team_wins.values, y=team_wins.index, palette=\"viridis\",hue =team_wins.index,\n",
    "                                                                            legend = False)\n",
    "plt.title(\"Most Matches Won by Teams - ICC WC 2023\")\n",
    "plt.xlabel(\"Number of Wins\")\n",
    "plt.ylabel(\"Team\")\n",
    "plt.show()"
   ]
  },
  {
   "cell_type": "markdown",
   "id": "9c78a9b0-671e-4496-8365-9a88dad58fe7",
   "metadata": {},
   "source": [
    "## 2. Which team had the highest average margin of victory (by runs or wickets)?"
   ]
  },
  {
   "cell_type": "code",
   "execution_count": 38,
   "id": "9b6fc54f-54cb-40ef-a314-fba69d1203b7",
   "metadata": {},
   "outputs": [
    {
     "name": "stdout",
     "output_type": "stream",
     "text": [
      "The team which has the highest average margin of victory by runs is:    winner  winner_runs\n",
      "3  England        130.0\n",
      "The team which has the highest average margin of victory by wickets is:      winner  winner_wickets\n",
      "9  Sri Lanka             6.5\n"
     ]
    }
   ],
   "source": [
    "avr_margin_r = wc_matches.groupby( by = [\"winner\"], as_index = False)[\"winner_runs\"].mean().sort_values(by = \"winner_runs\",ascending = False)\n",
    "avr_margin_w = wc_matches.groupby( by = [\"winner\"], as_index = False)[\"winner_wickets\"].mean().sort_values(by = \"winner_wickets\",ascending = False)\n",
    "topper_r = avr_margin_r.head(1)\n",
    "topper_w = avr_margin_w.head(1)\n",
    "\n",
    "print(f\"The team which has the highest average margin of victory by runs is:{topper_r}\")\n",
    "print(f\"The team which has the highest average margin of victory by wickets is:{topper_w}\")"
   ]
  },
  {
   "cell_type": "code",
   "execution_count": 41,
   "id": "6fc76e85-c70d-4233-8fdf-2a628255b57b",
   "metadata": {},
   "outputs": [
    {
     "data": {
      "image/png": "[encoded data removed]",
      "text/plain": [
       "<Figure size 1000x500 with 1 Axes>"
      ]
     },
     "metadata": {},
     "output_type": "display_data"
    }
   ],
   "source": [
    "plt.figure(figsize=(10, 5))\n",
    "sns.barplot(data=avr_margin_r.head(5), x=\"winner_runs\", y=\"winner\", palette=\"rocket\",hue = \"winner\",\n",
    "                                                                        legend = False)\n",
    "plt.title(\"Top 5 Teams by Average Winning Margin (Runs)\")\n",
    "plt.xlabel(\"Average Winning Margin (Runs)\")\n",
    "plt.ylabel(\"Team\")\n",
    "plt.show()"
   ]
  },
  {
   "cell_type": "code",
   "execution_count": 42,
   "id": "c1a0dded-3b53-4a76-9f44-a9b90b911af9",
   "metadata": {},
   "outputs": [
    {
     "data": {
      "image/png": "[encoded data removed]",
      "text/plain": [
       "<Figure size 1000x500 with 1 Axes>"
      ]
     },
     "metadata": {},
     "output_type": "display_data"
    }
   ],
   "source": [
    "plt.figure(figsize=(10, 5))\n",
    "sns.barplot(data=avr_margin_w.head(5), x=\"winner_wickets\", y=\"winner\", palette=\"mako\", hue = \"winner\",\n",
    "                                                                      legend = False)\n",
    "plt.title(\"Top 5 Teams by Average Winning Margin (Wickets)\")\n",
    "plt.xlabel(\"Average Winning Margin (Wickets)\")\n",
    "plt.ylabel(\"Team\")\n",
    "plt.show()"
   ]
  },
  {
   "cell_type": "markdown",
   "id": "4e98ccc9-c4d1-437f-b191-3f371201c657",
   "metadata": {},
   "source": [
    "## 3. Which team chased the most successfully? (i.e., won while fielding first)"
   ]
  },
  {
   "cell_type": "code",
   "execution_count": 43,
   "id": "74c4304c-683f-4b70-aec2-d4ca22bda53d",
   "metadata": {},
   "outputs": [
    {
     "name": "stdout",
     "output_type": "stream",
     "text": [
      "The team which chased the most successfully is winner\n",
      "Australia    5\n",
      "India        5\n",
      "Name: winner_wickets, dtype: int64\n"
     ]
    }
   ],
   "source": [
    "chasing_wins = wc_matches[wc_matches['winner_wickets'] > 0]\n",
    "chasing = chasing_wins.groupby(by = [\"winner\"])[\"winner_wickets\"].count().sort_values(ascending = False)\n",
    "winner1 = chasing.head(2)\n",
    "\n",
    "print(f\"The team which chased the most successfully is {winner1}\")"
   ]
  },
  {
   "cell_type": "code",
   "execution_count": 44,
   "id": "069b7bca-45ff-4142-8163-86b507dea55f",
   "metadata": {},
   "outputs": [
    {
     "data": {
      "image/png": "[encoded data removed]",
      "text/plain": [
       "<Figure size 800x500 with 1 Axes>"
      ]
     },
     "metadata": {},
     "output_type": "display_data"
    }
   ],
   "source": [
    "plt.figure(figsize=(8, 5))\n",
    "sns.barplot(x=chasing.values, y=chasing.index, palette=\"crest\", hue = chasing.index, legend = False)\n",
    "plt.title(\"Successful Chases by Teams\")\n",
    "plt.xlabel(\"Number of Chase Wins\")\n",
    "plt.ylabel(\"Team\")\n",
    "plt.show()\n"
   ]
  },
  {
   "cell_type": "markdown",
   "id": "3a025c3c-ab49-499c-ae09-3c6b39386b0f",
   "metadata": {},
   "source": [
    "![green-divider](https://user-images.githubusercontent.com/7065401/52071924-c003ad80-2562-11e9-8297-1c6595f8a7ff.png)\n"
   ]
  },
  {
   "cell_type": "markdown",
   "id": "3795e9a5-6b31-40d3-92fb-e05e5922e976",
   "metadata": {},
   "source": [
    "# Conclusion on Exploratory Data Analysis\n",
    "<img src=\"https://tse3.mm.bing.net/th/id/OIP.eD4AVsz9f_v8nmYiBaxyiAHaD5?pid=Api&P=0&h=1800\" alt=\"Description\" width=\"150\" height=\"75\"/>"
   ]
  },
  {
   "cell_type": "markdown",
   "id": "c0df1013-3c95-43eb-8d3b-7ddea0498be3",
   "metadata": {},
   "source": [
    "### Here is the quick summary of how all teams performed and which are the teams shows their dominance in the Wrold cup 2023.\n",
    "\n",
    "\n",
    "1).  India won the most matches in the tournament, highlighting their consistent performance throughout         the World Cup.\n",
    "\n",
    "2).  We calculated average victory margin separately for:\n",
    "         winner_runs (when team batted first)\n",
    "         winner_wickets (when team chased)\n",
    "\n",
    "Which resulted :- \n",
    "\n",
    "South Africa had the highest average margin of victory by runs, showcasing dominant batting and            bowling performances.\n",
    "India had a strong average margin of victory by wickets, reflecting their ability to chase targets         with ease.\n",
    "\n",
    "3).  we filtered matches where winner_wickets > 0, indicating a successful chase.\n",
    "\n",
    "Which Resulted :-\n",
    "\n",
    "India chased the most matches successfully, showing their strength while fielding first and                efficiently chasing down targets."
   ]
  },
  {
   "cell_type": "code",
   "execution_count": 15,
   "id": "695c10d8-cb7a-48d0-9036-abb39e75ab95",
   "metadata": {},
   "outputs": [
    {
     "data": {
      "text/html": [
       "<div>\n",
       "<style scoped>\n",
       "    .dataframe tbody tr th:only-of-type {\n",
       "        vertical-align: middle;\n",
       "    }\n",
       "\n",
       "    .dataframe tbody tr th {\n",
       "        vertical-align: top;\n",
       "    }\n",
       "\n",
       "    .dataframe thead th {\n",
       "        text-align: right;\n",
       "    }\n",
       "</style>\n",
       "<table border=\"1\" class=\"dataframe\">\n",
       "  <thead>\n",
       "    <tr style=\"text-align: right;\">\n",
       "      <th></th>\n",
       "      <th>season</th>\n",
       "      <th>team1</th>\n",
       "      <th>team2</th>\n",
       "      <th>date</th>\n",
       "      <th>match_number</th>\n",
       "      <th>venue</th>\n",
       "      <th>city</th>\n",
       "      <th>toss_winner</th>\n",
       "      <th>toss_decision</th>\n",
       "      <th>player_of_match</th>\n",
       "      <th>umpire1</th>\n",
       "      <th>umpire2</th>\n",
       "      <th>winner</th>\n",
       "      <th>winner_runs</th>\n",
       "      <th>winner_wickets</th>\n",
       "    </tr>\n",
       "  </thead>\n",
       "  <tbody>\n",
       "    <tr>\n",
       "      <th>0</th>\n",
       "      <td>2023/24</td>\n",
       "      <td>England</td>\n",
       "      <td>New Zealand</td>\n",
       "      <td>2023/10/05</td>\n",
       "      <td>1</td>\n",
       "      <td>Narendra Modi Stadium</td>\n",
       "      <td>Ahmedabad</td>\n",
       "      <td>New Zealand</td>\n",
       "      <td>field</td>\n",
       "      <td>R Ravindra</td>\n",
       "      <td>HDPK Dharmasena</td>\n",
       "      <td>Nitin Menon</td>\n",
       "      <td>New Zealand</td>\n",
       "      <td>0</td>\n",
       "      <td>9</td>\n",
       "    </tr>\n",
       "    <tr>\n",
       "      <th>1</th>\n",
       "      <td>2023/24</td>\n",
       "      <td>Pakistan</td>\n",
       "      <td>Netherlands</td>\n",
       "      <td>2023/10/06</td>\n",
       "      <td>2</td>\n",
       "      <td>Rajiv Gandhi International Stadium</td>\n",
       "      <td>Hyderabad</td>\n",
       "      <td>Netherlands</td>\n",
       "      <td>field</td>\n",
       "      <td>Saud Shakeel</td>\n",
       "      <td>AT Holdstock</td>\n",
       "      <td>CM Brown</td>\n",
       "      <td>Pakistan</td>\n",
       "      <td>81</td>\n",
       "      <td>0</td>\n",
       "    </tr>\n",
       "  </tbody>\n",
       "</table>\n",
       "</div>"
      ],
      "text/plain": [
       "    season     team1        team2        date  match_number  \\\n",
       "0  2023/24   England  New Zealand  2023/10/05             1   \n",
       "1  2023/24  Pakistan  Netherlands  2023/10/06             2   \n",
       "\n",
       "                                venue       city  toss_winner toss_decision  \\\n",
       "0               Narendra Modi Stadium  Ahmedabad  New Zealand         field   \n",
       "1  Rajiv Gandhi International Stadium  Hyderabad  Netherlands         field   \n",
       "\n",
       "  player_of_match          umpire1      umpire2       winner  winner_runs  \\\n",
       "0      R Ravindra  HDPK Dharmasena  Nitin Menon  New Zealand            0   \n",
       "1    Saud Shakeel     AT Holdstock     CM Brown     Pakistan           81   \n",
       "\n",
       "   winner_wickets  \n",
       "0               9  \n",
       "1               0  "
      ]
     },
     "execution_count": 15,
     "metadata": {},
     "output_type": "execute_result"
    }
   ],
   "source": [
    "wc_matches.head(2)"
   ]
  },
  {
   "cell_type": "code",
   "execution_count": 15,
   "id": "316c8ec1-e22d-4bbc-86a3-a482d7948c65",
   "metadata": {},
   "outputs": [
    {
     "data": {
      "text/html": [
       "<div>\n",
       "<style scoped>\n",
       "    .dataframe tbody tr th:only-of-type {\n",
       "        vertical-align: middle;\n",
       "    }\n",
       "\n",
       "    .dataframe tbody tr th {\n",
       "        vertical-align: top;\n",
       "    }\n",
       "\n",
       "    .dataframe thead th {\n",
       "        text-align: right;\n",
       "    }\n",
       "</style>\n",
       "<table border=\"1\" class=\"dataframe\">\n",
       "  <thead>\n",
       "    <tr style=\"text-align: right;\">\n",
       "      <th></th>\n",
       "      <th>season</th>\n",
       "      <th>team1</th>\n",
       "      <th>team2</th>\n",
       "      <th>date</th>\n",
       "      <th>match_number</th>\n",
       "      <th>venue</th>\n",
       "      <th>city</th>\n",
       "      <th>toss_winner</th>\n",
       "      <th>toss_decision</th>\n",
       "      <th>player_of_match</th>\n",
       "      <th>umpire1</th>\n",
       "      <th>umpire2</th>\n",
       "      <th>winner</th>\n",
       "      <th>winner_runs</th>\n",
       "      <th>winner_wickets</th>\n",
       "    </tr>\n",
       "  </thead>\n",
       "  <tbody>\n",
       "    <tr>\n",
       "      <th>0</th>\n",
       "      <td>2023/24</td>\n",
       "      <td>England</td>\n",
       "      <td>New Zealand</td>\n",
       "      <td>2023/10/05</td>\n",
       "      <td>1</td>\n",
       "      <td>Narendra Modi Stadium</td>\n",
       "      <td>Ahmedabad</td>\n",
       "      <td>New Zealand</td>\n",
       "      <td>field</td>\n",
       "      <td>R Ravindra</td>\n",
       "      <td>HDPK Dharmasena</td>\n",
       "      <td>Nitin Menon</td>\n",
       "      <td>New Zealand</td>\n",
       "      <td>0</td>\n",
       "      <td>9</td>\n",
       "    </tr>\n",
       "    <tr>\n",
       "      <th>1</th>\n",
       "      <td>2023/24</td>\n",
       "      <td>Pakistan</td>\n",
       "      <td>Netherlands</td>\n",
       "      <td>2023/10/06</td>\n",
       "      <td>2</td>\n",
       "      <td>Rajiv Gandhi International Stadium</td>\n",
       "      <td>Hyderabad</td>\n",
       "      <td>Netherlands</td>\n",
       "      <td>field</td>\n",
       "      <td>Saud Shakeel</td>\n",
       "      <td>AT Holdstock</td>\n",
       "      <td>CM Brown</td>\n",
       "      <td>Pakistan</td>\n",
       "      <td>81</td>\n",
       "      <td>0</td>\n",
       "    </tr>\n",
       "  </tbody>\n",
       "</table>\n",
       "</div>"
      ],
      "text/plain": [
       "    season     team1        team2        date  match_number  \\\n",
       "0  2023/24   England  New Zealand  2023/10/05             1   \n",
       "1  2023/24  Pakistan  Netherlands  2023/10/06             2   \n",
       "\n",
       "                                venue       city  toss_winner toss_decision  \\\n",
       "0               Narendra Modi Stadium  Ahmedabad  New Zealand         field   \n",
       "1  Rajiv Gandhi International Stadium  Hyderabad  Netherlands         field   \n",
       "\n",
       "  player_of_match          umpire1      umpire2       winner  winner_runs  \\\n",
       "0      R Ravindra  HDPK Dharmasena  Nitin Menon  New Zealand            0   \n",
       "1    Saud Shakeel     AT Holdstock     CM Brown     Pakistan           81   \n",
       "\n",
       "   winner_wickets  \n",
       "0               9  \n",
       "1               0  "
      ]
     },
     "execution_count": 15,
     "metadata": {},
     "output_type": "execute_result"
    }
   ],
   "source": [
    "wc_matches.head(2)"
   ]
  },
  {
   "cell_type": "markdown",
   "id": "9394db4f-86bf-4c74-9371-90a6eec24ad8",
   "metadata": {},
   "source": [
    "![green-divider](https://user-images.githubusercontent.com/7065401/52071924-c003ad80-2562-11e9-8297-1c6595f8a7ff.png)\n"
   ]
  },
  {
   "cell_type": "markdown",
   "id": "f5c2be5e-e8f3-4062-98b6-c564039a891e",
   "metadata": {},
   "source": [
    "# 3. Team INDIA performance analysis \n",
    "<img src=\"https://tse4.mm.bing.net/th/id/OIP.X0-nUjqQwcxKyiEfVDgyngHaE8?pid=Api&P=0&h=180\" alt=\"Description\" width=\"150\" height=\"75\"/>\n"
   ]
  },
  {
   "cell_type": "markdown",
   "id": "87755f4e-5ef2-4a39-a674-037f41e28c63",
   "metadata": {},
   "source": [
    "# Batting 🏏"
   ]
  },
  {
   "cell_type": "code",
   "execution_count": 16,
   "id": "cc513d33-2115-4c4c-acc1-a7632928ccb9",
   "metadata": {},
   "outputs": [],
   "source": [
    " # Reading anather data file for analysis of batting performance of team India\n",
    "\n",
    "batting = pd.read_csv(r\"C:\\Users\\nivya\\Downloads\\Batting_Stats.csv\")"
   ]
  },
  {
   "cell_type": "code",
   "execution_count": 17,
   "id": "eb2732b2-9769-4904-bff7-87c75c9dc263",
   "metadata": {},
   "outputs": [
    {
     "data": {
      "text/html": [
       "<div>\n",
       "<style scoped>\n",
       "    .dataframe tbody tr th:only-of-type {\n",
       "        vertical-align: middle;\n",
       "    }\n",
       "\n",
       "    .dataframe tbody tr th {\n",
       "        vertical-align: top;\n",
       "    }\n",
       "\n",
       "    .dataframe thead th {\n",
       "        text-align: right;\n",
       "    }\n",
       "</style>\n",
       "<table border=\"1\" class=\"dataframe\">\n",
       "  <thead>\n",
       "    <tr style=\"text-align: right;\">\n",
       "      <th></th>\n",
       "      <th>Player</th>\n",
       "      <th>Country</th>\n",
       "      <th>Match_Played</th>\n",
       "      <th>Inning</th>\n",
       "      <th>Not_out</th>\n",
       "      <th>Runs</th>\n",
       "      <th>High_Score</th>\n",
       "      <th>Average</th>\n",
       "      <th>Ball_Faced</th>\n",
       "      <th>SR</th>\n",
       "      <th>100</th>\n",
       "      <th>50</th>\n",
       "      <th>0</th>\n",
       "      <th>4s</th>\n",
       "      <th>6s</th>\n",
       "    </tr>\n",
       "  </thead>\n",
       "  <tbody>\n",
       "    <tr>\n",
       "      <th>0</th>\n",
       "      <td>RG Sharma</td>\n",
       "      <td>IND</td>\n",
       "      <td>11</td>\n",
       "      <td>11</td>\n",
       "      <td>0</td>\n",
       "      <td>597</td>\n",
       "      <td>131</td>\n",
       "      <td>54.27</td>\n",
       "      <td>474</td>\n",
       "      <td>125.94</td>\n",
       "      <td>1</td>\n",
       "      <td>3</td>\n",
       "      <td>1</td>\n",
       "      <td>66</td>\n",
       "      <td>31</td>\n",
       "    </tr>\n",
       "    <tr>\n",
       "      <th>1</th>\n",
       "      <td>SS Iyer</td>\n",
       "      <td>IND</td>\n",
       "      <td>11</td>\n",
       "      <td>11</td>\n",
       "      <td>3</td>\n",
       "      <td>530</td>\n",
       "      <td>128*</td>\n",
       "      <td>66.25</td>\n",
       "      <td>468</td>\n",
       "      <td>113.24</td>\n",
       "      <td>2</td>\n",
       "      <td>3</td>\n",
       "      <td>1</td>\n",
       "      <td>37</td>\n",
       "      <td>24</td>\n",
       "    </tr>\n",
       "  </tbody>\n",
       "</table>\n",
       "</div>"
      ],
      "text/plain": [
       "       Player Country  Match_Played  Inning  Not_out  Runs High_Score Average  \\\n",
       "0  RG Sharma      IND            11      11        0   597        131   54.27   \n",
       "1    SS Iyer      IND            11      11        3   530       128*   66.25   \n",
       "\n",
       "   Ball_Faced      SR  100  50  0  4s  6s  \n",
       "0         474  125.94    1   3  1  66  31  \n",
       "1         468  113.24    2   3  1  37  24  "
      ]
     },
     "execution_count": 17,
     "metadata": {},
     "output_type": "execute_result"
    }
   ],
   "source": [
    "batting.head(2)"
   ]
  },
  {
   "cell_type": "markdown",
   "id": "b97d7ec1-0bc4-4265-87c8-9def2c8cb5c6",
   "metadata": {},
   "source": [
    "## 1. What was India’s average score when batting first?"
   ]
  },
  {
   "cell_type": "code",
   "execution_count": 18,
   "id": "22f6860d-c8d4-4bcb-9e45-24097556e80e",
   "metadata": {},
   "outputs": [
    {
     "name": "stdout",
     "output_type": "stream",
     "text": [
      "India's average score when batting first in the ICC World Cup 2023 was 0.104 runs.\n"
     ]
    }
   ],
   "source": [
    "india = (wc_matches[\"winner\"] == \"India\") & (wc_matches[\"winner_runs\"] != 0) #We created a mask named india\n",
    "avg_score = india.mean()\n",
    "print(f\"India's average score when batting first in the ICC World Cup 2023 was {round(avg_score,3)} runs.\")\n"
   ]
  },
  {
   "cell_type": "markdown",
   "id": "7aa9aca2-f1af-4c7f-a8bc-b82a314f9521",
   "metadata": {},
   "source": [
    "## 2. Which Indian batsman scored the most runs in the tournament?"
   ]
  },
  {
   "cell_type": "code",
   "execution_count": 34,
   "id": "2e9d6acd-7029-4328-84bd-19fe43deaea9",
   "metadata": {},
   "outputs": [
    {
     "name": "stdout",
     "output_type": "stream",
     "text": [
      "Indian player who score the most runs in the ICC worldcup 2023 is 0\n"
     ]
    }
   ],
   "source": [
    "IND = batting[\"Country\"] == \"IND\"\n",
    "\n",
    "most_runs = batting[IND][[\"Player\",\"Runs\"]].head(1)\n",
    "print(f\"Indian player who score the most runs in the ICC worldcup 2023 is {most_runs.index[0]}\")"
   ]
  },
  {
   "cell_type": "markdown",
   "id": "2c3dce54-8d5a-4aa9-9a59-e68429839906",
   "metadata": {},
   "source": [
    "## 3. What was the average and strike rate of each Indian batter?"
   ]
  },
  {
   "cell_type": "code",
   "execution_count": 37,
   "id": "c27d749b-0a8f-4dbd-9aed-f3ecaa828290",
   "metadata": {},
   "outputs": [
    {
     "name": "stdout",
     "output_type": "stream",
     "text": [
      "Average of each Indian player is            Player Average\n",
      "0      RG Sharma    54.27\n",
      "1        SS Iyer    66.25\n",
      "16  Shubman Gill    44.25\n",
      "25      KL Rahul    75.33\n",
      "26       V Kohli    95.62\n",
      "58     RA Jadeja    40.00\n",
      "70  Ishan Kishan    23.50\n",
      "86     HH Pandya        -\n",
      "Strike rate of each Indian player is            Player      SR\n",
      "0      RG Sharma   125.94\n",
      "1        SS Iyer   113.24\n",
      "16  Shubman Gill   106.94\n",
      "25      KL Rahul    90.76\n",
      "26       V Kohli    90.31\n",
      "58     RA Jadeja   101.69\n",
      "70  Ishan Kishan    97.91\n",
      "86     HH Pandya   137.50\n"
     ]
    }
   ],
   "source": [
    "avg = batting[\"Country\"] == 'IND'\n",
    "batting_avg = batting[avg][[\"Player\",\"Average\"]]\n",
    "\n",
    "strike_rate = batting[avg][[\"Player\",\"SR\"]]\n",
    "\n",
    "print(f\"Average of each Indian player is {batting_avg}\")\n",
    "print(f\"Strike rate of each Indian player is {strike_rate}\")"
   ]
  },
  {
   "cell_type": "code",
   "execution_count": 48,
   "id": "df9f50fb-acdf-40e0-9919-676784e0f55c",
   "metadata": {},
   "outputs": [
    {
     "data": {
      "image/png": "[encoded data removed]",
      "text/plain": [
       "<Figure size 1000x500 with 1 Axes>"
      ]
     },
     "metadata": {},
     "output_type": "display_data"
    }
   ],
   "source": [
    "plt.figure(figsize=(10, 5))\n",
    "sns.barplot(data=batting[batting[\"Country\"] == \"IND\"], x=\"Average\", y=\"Player\", palette=\"light:#5A9\",\n",
    "                                                               hue = \"Average\", legend = False)\n",
    "                                                            \n",
    "plt.title(\"Indian Batsmen - Batting Average\")\n",
    "plt.xlabel(\"Average\")\n",
    "plt.ylabel(\"Player\")\n",
    "plt.show()"
   ]
  },
  {
   "cell_type": "markdown",
   "id": "d3d43200-6821-4079-b28a-27bb6449d09f",
   "metadata": {},
   "source": [
    "![purple-divider](https://user-images.githubusercontent.com/7065401/52071927-c1cd7100-2562-11e9-908a-dde91ba14e59.png)\n"
   ]
  },
  {
   "cell_type": "markdown",
   "id": "d8d78c5e-2943-4b66-8343-3516f8e52193",
   "metadata": {},
   "source": [
    "# Bowling ⚾"
   ]
  },
  {
   "cell_type": "code",
   "execution_count": 21,
   "id": "ba74d808-240f-488f-b566-9b781dc0b960",
   "metadata": {},
   "outputs": [],
   "source": [
    " # Reading anather data file for analysis of bowling performance of team India\n",
    "\n",
    "bowling = pd.read_csv(r\"C:\\Users\\nivya\\Downloads\\Bowling_Stats.csv\")"
   ]
  },
  {
   "cell_type": "code",
   "execution_count": 22,
   "id": "5e9da886-ac49-4293-8000-8bf66e93defe",
   "metadata": {},
   "outputs": [
    {
     "data": {
      "text/html": [
       "<div>\n",
       "<style scoped>\n",
       "    .dataframe tbody tr th:only-of-type {\n",
       "        vertical-align: middle;\n",
       "    }\n",
       "\n",
       "    .dataframe tbody tr th {\n",
       "        vertical-align: top;\n",
       "    }\n",
       "\n",
       "    .dataframe thead th {\n",
       "        text-align: right;\n",
       "    }\n",
       "</style>\n",
       "<table border=\"1\" class=\"dataframe\">\n",
       "  <thead>\n",
       "    <tr style=\"text-align: right;\">\n",
       "      <th></th>\n",
       "      <th>Bowlers</th>\n",
       "      <th>Country</th>\n",
       "      <th>Match_Played</th>\n",
       "      <th>Innings</th>\n",
       "      <th>Balls</th>\n",
       "      <th>Overs</th>\n",
       "      <th>maiden</th>\n",
       "      <th>Runs</th>\n",
       "      <th>Wkts</th>\n",
       "      <th>BBI</th>\n",
       "      <th>Average</th>\n",
       "      <th>Economy</th>\n",
       "      <th>Strike Rate</th>\n",
       "      <th>4'w</th>\n",
       "      <th>5'w</th>\n",
       "    </tr>\n",
       "  </thead>\n",
       "  <tbody>\n",
       "    <tr>\n",
       "      <th>0</th>\n",
       "      <td>Mohammed Shami</td>\n",
       "      <td>IND</td>\n",
       "      <td>7</td>\n",
       "      <td>7</td>\n",
       "      <td>293</td>\n",
       "      <td>48.5</td>\n",
       "      <td>4</td>\n",
       "      <td>257</td>\n",
       "      <td>24</td>\n",
       "      <td>7/57</td>\n",
       "      <td>10.70</td>\n",
       "      <td>5.26</td>\n",
       "      <td>12.20</td>\n",
       "      <td>1</td>\n",
       "      <td>3</td>\n",
       "    </tr>\n",
       "    <tr>\n",
       "      <th>1</th>\n",
       "      <td>A Zampa</td>\n",
       "      <td>AUS</td>\n",
       "      <td>11</td>\n",
       "      <td>11</td>\n",
       "      <td>576</td>\n",
       "      <td>96.0</td>\n",
       "      <td>1</td>\n",
       "      <td>515</td>\n",
       "      <td>23</td>\n",
       "      <td>4/8</td>\n",
       "      <td>22.39</td>\n",
       "      <td>5.36</td>\n",
       "      <td>25.04</td>\n",
       "      <td>3</td>\n",
       "      <td>0</td>\n",
       "    </tr>\n",
       "    <tr>\n",
       "      <th>2</th>\n",
       "      <td>D Madushanka</td>\n",
       "      <td>SL</td>\n",
       "      <td>9</td>\n",
       "      <td>9</td>\n",
       "      <td>470</td>\n",
       "      <td>78.2</td>\n",
       "      <td>4</td>\n",
       "      <td>525</td>\n",
       "      <td>21</td>\n",
       "      <td>5/80</td>\n",
       "      <td>25.00</td>\n",
       "      <td>6.70</td>\n",
       "      <td>22.38</td>\n",
       "      <td>1</td>\n",
       "      <td>1</td>\n",
       "    </tr>\n",
       "    <tr>\n",
       "      <th>3</th>\n",
       "      <td>JJ Bumrah</td>\n",
       "      <td>IND</td>\n",
       "      <td>11</td>\n",
       "      <td>11</td>\n",
       "      <td>551</td>\n",
       "      <td>91.5</td>\n",
       "      <td>9</td>\n",
       "      <td>373</td>\n",
       "      <td>20</td>\n",
       "      <td>4/39</td>\n",
       "      <td>18.65</td>\n",
       "      <td>4.06</td>\n",
       "      <td>27.55</td>\n",
       "      <td>1</td>\n",
       "      <td>0</td>\n",
       "    </tr>\n",
       "    <tr>\n",
       "      <th>4</th>\n",
       "      <td>G Coetzee</td>\n",
       "      <td>SA</td>\n",
       "      <td>8</td>\n",
       "      <td>8</td>\n",
       "      <td>381</td>\n",
       "      <td>63.3</td>\n",
       "      <td>1</td>\n",
       "      <td>396</td>\n",
       "      <td>20</td>\n",
       "      <td>4/44</td>\n",
       "      <td>19.80</td>\n",
       "      <td>6.23</td>\n",
       "      <td>19.05</td>\n",
       "      <td>1</td>\n",
       "      <td>0</td>\n",
       "    </tr>\n",
       "    <tr>\n",
       "      <th>5</th>\n",
       "      <td>Shaheen Shah Afridi</td>\n",
       "      <td>PAK</td>\n",
       "      <td>9</td>\n",
       "      <td>9</td>\n",
       "      <td>486</td>\n",
       "      <td>81.0</td>\n",
       "      <td>3</td>\n",
       "      <td>481</td>\n",
       "      <td>18</td>\n",
       "      <td>5/54</td>\n",
       "      <td>26.72</td>\n",
       "      <td>5.93</td>\n",
       "      <td>27.00</td>\n",
       "      <td>0</td>\n",
       "      <td>1</td>\n",
       "    </tr>\n",
       "    <tr>\n",
       "      <th>6</th>\n",
       "      <td>M Jansen</td>\n",
       "      <td>SA</td>\n",
       "      <td>9</td>\n",
       "      <td>9</td>\n",
       "      <td>414</td>\n",
       "      <td>69.0</td>\n",
       "      <td>3</td>\n",
       "      <td>450</td>\n",
       "      <td>17</td>\n",
       "      <td>3/31</td>\n",
       "      <td>26.47</td>\n",
       "      <td>6.52</td>\n",
       "      <td>24.35</td>\n",
       "      <td>0</td>\n",
       "      <td>0</td>\n",
       "    </tr>\n",
       "    <tr>\n",
       "      <th>7</th>\n",
       "      <td>RA Jadeja</td>\n",
       "      <td>IND</td>\n",
       "      <td>11</td>\n",
       "      <td>11</td>\n",
       "      <td>561</td>\n",
       "      <td>93.3</td>\n",
       "      <td>4</td>\n",
       "      <td>398</td>\n",
       "      <td>16</td>\n",
       "      <td>5/33</td>\n",
       "      <td>24.87</td>\n",
       "      <td>4.25</td>\n",
       "      <td>35.06</td>\n",
       "      <td>0</td>\n",
       "      <td>1</td>\n",
       "    </tr>\n",
       "    <tr>\n",
       "      <th>8</th>\n",
       "      <td>JR Hazlewood</td>\n",
       "      <td>AUS</td>\n",
       "      <td>11</td>\n",
       "      <td>11</td>\n",
       "      <td>559</td>\n",
       "      <td>93.1</td>\n",
       "      <td>8</td>\n",
       "      <td>449</td>\n",
       "      <td>16</td>\n",
       "      <td>3/38</td>\n",
       "      <td>28.06</td>\n",
       "      <td>4.81</td>\n",
       "      <td>34.93</td>\n",
       "      <td>0</td>\n",
       "      <td>0</td>\n",
       "    </tr>\n",
       "    <tr>\n",
       "      <th>9</th>\n",
       "      <td>MJ Santner</td>\n",
       "      <td>NZ</td>\n",
       "      <td>10</td>\n",
       "      <td>10</td>\n",
       "      <td>556</td>\n",
       "      <td>92.4</td>\n",
       "      <td>4</td>\n",
       "      <td>449</td>\n",
       "      <td>16</td>\n",
       "      <td>5/59</td>\n",
       "      <td>28.06</td>\n",
       "      <td>4.84</td>\n",
       "      <td>34.75</td>\n",
       "      <td>0</td>\n",
       "      <td>1</td>\n",
       "    </tr>\n",
       "  </tbody>\n",
       "</table>\n",
       "</div>"
      ],
      "text/plain": [
       "                Bowlers Country  Match_Played  Innings  Balls  Overs maiden  \\\n",
       "0       Mohammed Shami      IND             7        7    293   48.5      4   \n",
       "1              A Zampa      AUS            11       11    576   96.0      1   \n",
       "2         D Madushanka       SL             9        9    470   78.2      4   \n",
       "3            JJ Bumrah      IND            11       11    551   91.5      9   \n",
       "4            G Coetzee       SA             8        8    381   63.3      1   \n",
       "5  Shaheen Shah Afridi      PAK             9        9    486   81.0      3   \n",
       "6             M Jansen       SA             9        9    414   69.0      3   \n",
       "7            RA Jadeja      IND            11       11    561   93.3      4   \n",
       "8         JR Hazlewood      AUS            11       11    559   93.1      8   \n",
       "9           MJ Santner       NZ            10       10    556   92.4      4   \n",
       "\n",
       "   Runs  Wkts   BBI  Average  Economy  Strike Rate  4'w  5'w  \n",
       "0   257    24  7/57    10.70     5.26        12.20    1    3  \n",
       "1   515    23   4/8    22.39     5.36        25.04    3    0  \n",
       "2   525    21  5/80    25.00     6.70        22.38    1    1  \n",
       "3   373    20  4/39    18.65     4.06        27.55    1    0  \n",
       "4   396    20  4/44    19.80     6.23        19.05    1    0  \n",
       "5   481    18  5/54    26.72     5.93        27.00    0    1  \n",
       "6   450    17  3/31    26.47     6.52        24.35    0    0  \n",
       "7   398    16  5/33    24.87     4.25        35.06    0    1  \n",
       "8   449    16  3/38    28.06     4.81        34.93    0    0  \n",
       "9   449    16  5/59    28.06     4.84        34.75    0    1  "
      ]
     },
     "execution_count": 22,
     "metadata": {},
     "output_type": "execute_result"
    }
   ],
   "source": [
    "bowling.head(10)"
   ]
  },
  {
   "cell_type": "markdown",
   "id": "63198bc7-45ee-4b71-917c-cd9a9a30ce97",
   "metadata": {},
   "source": [
    "## 1. Who were India’s leading wicket-takers in the tournament?"
   ]
  },
  {
   "cell_type": "code",
   "execution_count": 23,
   "id": "1e5ebc5a-b512-4a58-8d24-920b7b04af34",
   "metadata": {},
   "outputs": [
    {
     "name": "stdout",
     "output_type": "stream",
     "text": [
      "Mohammed Shami  has taken the highest wickets which is 24.\n"
     ]
    }
   ],
   "source": [
    "top = bowling[\"Country\"] == \"IND\"\n",
    "b = bowling[top][\"Bowlers\"].head(1).values[0]\n",
    "w = bowling[top][\"Wkts\"].head(1).values[0]\n",
    "\n",
    "print(f\"{b} has taken the highest wickets which is {w}.\")"
   ]
  },
  {
   "cell_type": "markdown",
   "id": "d4e2e578-4389-4e52-8fed-c5f7f9b03136",
   "metadata": {},
   "source": [
    "## 2. What were the bowling averages and economy rates of Indian bowlers?"
   ]
  },
  {
   "cell_type": "code",
   "execution_count": 24,
   "id": "8c0be3ac-a1cd-4625-b369-ef170494c455",
   "metadata": {},
   "outputs": [
    {
     "name": "stdout",
     "output_type": "stream",
     "text": [
      "Average of each Indian bowler is             Bowlers  Average\n",
      "0   Mohammed Shami     10.70\n",
      "3        JJ Bumrah     18.65\n",
      "7        RA Jadeja     24.87\n",
      "15   Kuldeep Yadav     28.26\n",
      "17  Mohammed Siraj     33.50\n",
      "50       HH Pandya     22.60\n",
      "69       SN Thakur     51.00\n",
      "77       RG Sharma      7.00\n",
      "78         V Kohli     15.00\n",
      "79        R Ashwin     34.00\n",
      "Strike rate of each Indian bowler is             Bowlers  Economy\n",
      "0   Mohammed Shami      5.26\n",
      "3        JJ Bumrah      4.06\n",
      "7        RA Jadeja      4.25\n",
      "15   Kuldeep Yadav      4.45\n",
      "17  Mohammed Siraj      5.68\n",
      "50       HH Pandya      6.84\n",
      "69       SN Thakur      6.00\n",
      "77       RG Sharma      8.40\n",
      "78         V Kohli      4.28\n",
      "79        R Ashwin      3.40\n"
     ]
    }
   ],
   "source": [
    "avg_and_eco = bowling[\"Country\"] == 'IND'\n",
    "bowling_avg = bowling[avg_and_eco][[\"Bowlers\",\"Average\"]]\n",
    "economy_rate = bowling[avg_and_eco][[\"Bowlers\",\"Economy\"]]\n",
    "\n",
    "print(f\"Average of each Indian bowler is {bowling_avg}\")\n",
    "print(f\"Strike rate of each Indian bowler is {economy_rate}\")"
   ]
  },
  {
   "cell_type": "code",
   "execution_count": 51,
   "id": "0ab6b750-6e41-487f-ac6f-d22c466cdd00",
   "metadata": {},
   "outputs": [
    {
     "data": {
      "image/png": "[encoded data removed]",
      "text/plain": [
       "<Figure size 1000x500 with 1 Axes>"
      ]
     },
     "metadata": {},
     "output_type": "display_data"
    }
   ],
   "source": [
    "plt.figure(figsize=(10, 5))\n",
    "sns.barplot(data=bowling[bowling[\"Country\"] == \"IND\"], x=\"Economy\", y=\"Bowlers\", palette=\"ch:s=-.2,r=.6\",\n",
    "                                                 hue = \"Bowlers\", legend = False)\n",
    "plt.title(\"Indian Bowlers - Economy Rates\")\n",
    "plt.xlabel(\"Economy\")\n",
    "plt.ylabel(\"Bowler\")\n",
    "plt.show()"
   ]
  },
  {
   "cell_type": "markdown",
   "id": "e918a64b-5a5e-41d1-b395-cdddefc65bd7",
   "metadata": {},
   "source": [
    "## 3. How many maiden overs did Indian bowlers bowl in total?"
   ]
  },
  {
   "cell_type": "code",
   "execution_count": 25,
   "id": "2d478312-031a-4a76-90f5-df69b790a469",
   "metadata": {},
   "outputs": [
    {
     "name": "stdout",
     "output_type": "stream",
     "text": [
      "Total maiden overs of team India is 10\n"
     ]
    }
   ],
   "source": [
    "mask = bowling[\"Country\"] == \"IND\"\n",
    "maiden = bowling[mask][\"maiden\"].count()\n",
    "\n",
    "print(f\"Total maiden overs of team India is {maiden}\")"
   ]
  },
  {
   "cell_type": "markdown",
   "id": "df1c3558-52e7-4e3a-833d-1d1684d78e69",
   "metadata": {},
   "source": [
    "![green-divider](https://user-images.githubusercontent.com/7065401/52071924-c003ad80-2562-11e9-8297-1c6595f8a7ff.png)\n"
   ]
  },
  {
   "cell_type": "markdown",
   "id": "07113195-ae4b-4c5f-9ccb-a3290efc40bd",
   "metadata": {},
   "source": [
    "# India's overall performance"
   ]
  },
  {
   "cell_type": "code",
   "execution_count": 26,
   "id": "ff73489b-0be3-482b-8344-c649f534ed15",
   "metadata": {},
   "outputs": [
    {
     "data": {
      "text/html": [
       "<div>\n",
       "<style scoped>\n",
       "    .dataframe tbody tr th:only-of-type {\n",
       "        vertical-align: middle;\n",
       "    }\n",
       "\n",
       "    .dataframe tbody tr th {\n",
       "        vertical-align: top;\n",
       "    }\n",
       "\n",
       "    .dataframe thead th {\n",
       "        text-align: right;\n",
       "    }\n",
       "</style>\n",
       "<table border=\"1\" class=\"dataframe\">\n",
       "  <thead>\n",
       "    <tr style=\"text-align: right;\">\n",
       "      <th></th>\n",
       "      <th>season</th>\n",
       "      <th>team1</th>\n",
       "      <th>team2</th>\n",
       "      <th>date</th>\n",
       "      <th>match_number</th>\n",
       "      <th>venue</th>\n",
       "      <th>city</th>\n",
       "      <th>toss_winner</th>\n",
       "      <th>toss_decision</th>\n",
       "      <th>player_of_match</th>\n",
       "      <th>umpire1</th>\n",
       "      <th>umpire2</th>\n",
       "      <th>winner</th>\n",
       "      <th>winner_runs</th>\n",
       "      <th>winner_wickets</th>\n",
       "    </tr>\n",
       "  </thead>\n",
       "  <tbody>\n",
       "    <tr>\n",
       "      <th>0</th>\n",
       "      <td>2023/24</td>\n",
       "      <td>England</td>\n",
       "      <td>New Zealand</td>\n",
       "      <td>2023/10/05</td>\n",
       "      <td>1</td>\n",
       "      <td>Narendra Modi Stadium</td>\n",
       "      <td>Ahmedabad</td>\n",
       "      <td>New Zealand</td>\n",
       "      <td>field</td>\n",
       "      <td>R Ravindra</td>\n",
       "      <td>HDPK Dharmasena</td>\n",
       "      <td>Nitin Menon</td>\n",
       "      <td>New Zealand</td>\n",
       "      <td>0</td>\n",
       "      <td>9</td>\n",
       "    </tr>\n",
       "    <tr>\n",
       "      <th>1</th>\n",
       "      <td>2023/24</td>\n",
       "      <td>Pakistan</td>\n",
       "      <td>Netherlands</td>\n",
       "      <td>2023/10/06</td>\n",
       "      <td>2</td>\n",
       "      <td>Rajiv Gandhi International Stadium</td>\n",
       "      <td>Hyderabad</td>\n",
       "      <td>Netherlands</td>\n",
       "      <td>field</td>\n",
       "      <td>Saud Shakeel</td>\n",
       "      <td>AT Holdstock</td>\n",
       "      <td>CM Brown</td>\n",
       "      <td>Pakistan</td>\n",
       "      <td>81</td>\n",
       "      <td>0</td>\n",
       "    </tr>\n",
       "  </tbody>\n",
       "</table>\n",
       "</div>"
      ],
      "text/plain": [
       "    season     team1        team2        date  match_number  \\\n",
       "0  2023/24   England  New Zealand  2023/10/05             1   \n",
       "1  2023/24  Pakistan  Netherlands  2023/10/06             2   \n",
       "\n",
       "                                venue       city  toss_winner toss_decision  \\\n",
       "0               Narendra Modi Stadium  Ahmedabad  New Zealand         field   \n",
       "1  Rajiv Gandhi International Stadium  Hyderabad  Netherlands         field   \n",
       "\n",
       "  player_of_match          umpire1      umpire2       winner  winner_runs  \\\n",
       "0      R Ravindra  HDPK Dharmasena  Nitin Menon  New Zealand            0   \n",
       "1    Saud Shakeel     AT Holdstock     CM Brown     Pakistan           81   \n",
       "\n",
       "   winner_wickets  \n",
       "0               9  \n",
       "1               0  "
      ]
     },
     "execution_count": 26,
     "metadata": {},
     "output_type": "execute_result"
    }
   ],
   "source": [
    "wc_matches.head(2)"
   ]
  },
  {
   "cell_type": "markdown",
   "id": "686bb690-ae40-4a10-8f52-b4d003ddcae4",
   "metadata": {},
   "source": [
    "## 1. How did India perform when batting first vs chasing?"
   ]
  },
  {
   "cell_type": "code",
   "execution_count": 27,
   "id": "8c80c83e-fcf6-43ed-be87-93aa26bfc316",
   "metadata": {},
   "outputs": [
    {
     "name": "stdout",
     "output_type": "stream",
     "text": [
      "India won 5 matches while batting first \n",
      "India won 5 matches while chasing\n"
     ]
    }
   ],
   "source": [
    "batting_c = (wc_matches[\"winner\"] == \"India\") & (wc_matches[\"winner_wickets\"] > 0)\n",
    "performance_c = wc_matches[batting_c][\"winner_wickets\"].value_counts().sum()\n",
    "batting1 = (wc_matches[\"winner\"] == \"India\") & (wc_matches[\"winner_runs\"] > 0)\n",
    "performance1 = wc_matches[batting1][\"winner_runs\"].value_counts().sum()\n",
    "\n",
    "print(f\"India won {performance1} matches while batting first \")\n",
    "print(f\"India won {performance_c} matches while chasing\")"
   ]
  },
  {
   "cell_type": "code",
   "execution_count": 52,
   "id": "65477ae5-c326-4b75-a952-802a683a022d",
   "metadata": {},
   "outputs": [
    {
     "data": {
      "image/png": "[encoded data removed]",
      "text/plain": [
       "<Figure size 600x600 with 1 Axes>"
      ]
     },
     "metadata": {},
     "output_type": "display_data"
    }
   ],
   "source": [
    "labels = [\"Batting First Wins\", \"Chasing Wins\"]\n",
    "sizes = [performance1, performance_c]\n",
    "colors = [\"#ff9999\",\"#66b3ff\"]\n",
    "\n",
    "plt.figure(figsize=(6,6))\n",
    "plt.pie(sizes, labels=labels, colors=colors, autopct='%1.1f%%', startangle=140)\n",
    "plt.title(\"India's Wins: Batting First vs Chasing\")\n",
    "plt.axis('equal')\n",
    "plt.show()"
   ]
  },
  {
   "cell_type": "markdown",
   "id": "336db01d-1b45-40e9-9afc-87cbe06a1f54",
   "metadata": {},
   "source": [
    "## 2. How many matches did India played and won?"
   ]
  },
  {
   "cell_type": "code",
   "execution_count": 28,
   "id": "7b534dcc-135f-4f26-ab60-dff144ec6e6a",
   "metadata": {},
   "outputs": [
    {
     "name": "stdout",
     "output_type": "stream",
     "text": [
      "Team India played 11 matches and won 10 of them.\n"
     ]
    }
   ],
   "source": [
    "played = wc_matches[(wc_matches['team1'] == 'India') | (wc_matches['team2'] == 'India')].shape[0]\n",
    "India_won = wc_matches[wc_matches['winner'] == 'India'].shape[0]\n",
    "\n",
    "print(f\"Team India played {played} matches and won {India_won} of them.\")"
   ]
  },
  {
   "cell_type": "markdown",
   "id": "fcc7de66-a4df-43cc-ab4a-49952e4aeac4",
   "metadata": {},
   "source": [
    "![green-divider](https://user-images.githubusercontent.com/7065401/52071924-c003ad80-2562-11e9-8297-1c6595f8a7ff.png)\n"
   ]
  },
  {
   "cell_type": "markdown",
   "id": "d6bf950d-496a-4919-851a-d81fc1fbac05",
   "metadata": {},
   "source": [
    "# Conclusion on Team India's performance in the Worldcup 2023"
   ]
  },
  {
   "cell_type": "markdown",
   "id": "99210605-0893-4230-bfe4-c853f8c3b3a2",
   "metadata": {},
   "source": [
    "# BATTING :-\n",
    "<img src=\"https://tse3.mm.bing.net/th/id/OIP.n-UQfTmsli_mQ0Eo6C6vswHaFK?pid=Api&P=0&h=180\" alt=\"Description\" width=\"300\" height=\"150\"/>\n",
    "\n",
    "\n",
    "1) Two batters from team India are in the top ten batsmen list\n",
    "                   (i) Rohit Sharma (leader of the table)\n",
    "                   (ii) Shreyes Iyer (second in the table)\n",
    "\n",
    "2) India's batting average is 0.246 including batting first and chasing.\n",
    "\n",
    "3) * The overall Indian batting perfomance was good through out the tournamnet. The openers gives a good        start every time as the Rohit sharma was one of the opening player which scores the highest runs in        the whole tournament.\n",
    "   * Middle order batsman having low strike rate because their role is to stablising the situations and         reducing the pressure from the lower order batters.\n",
    "   * Lower order(finishers) played with outsanding strike rate of average 120.0 which helps team India to       score good in the tournament.\n",
    "\n",
    "\n",
    "# BOWLING :-\n",
    "<img src=\"https://tse2.mm.bing.net/th/id/OIP.DuPjPsV-qvyx3yMoC_B83QHaEj?pid=Api&P=0&h=180\" alt=\"Description\" width=\"300\" height=\"150\"/>\n",
    "\n",
    "1) Indian bowling performance was finominal through out the tournament as three Indian bowlers bowlers are    in the top 10 list    (i) Mohammed Shami\n",
    "                         (ii) JJ Bumrah\n",
    "                         (iii) RA Jadeja\n",
    "\n",
    "2) Team India taken 99 wickets in total where spinners took 34 wickets and pacers took 65 wickets.\n",
    "   Pacers played a huge role in the bowling prospective which helps team India to stand strong in the         tournament.\n",
    "\n",
    "\n",
    "# INDIA'S OVERALL PERFORMANCE :-\n",
    "<img src=\"https://tse2.mm.bing.net/th/id/OIP.Pgc6iGrpvRzmTGVywnMeggHaEo?pid=Api&P=0&h=180\" alt=\"Description\" width=\"300\" height=\"150\"/>\n",
    "\n",
    "\n",
    "1) India played 11 matches out of which they won 10.\n",
    "   There is a huge disappoinmnet as the only match team India loss was the Finals against team New Zealand    which flushed out the whole Indian performance through out the tournament.\n",
    "\n",
    "2) * As looking to the form of team India they are the first CLAIMANT of winning the trophy.\n",
    "     Batters and bowlers both performed great through out the tournament.\n",
    "   * Both the leaders of the batting and bowling are the Indian players(Rohit Sharma, Mohammad Shami).\n",
    "   * Most sixes and fours hits by team India.\n",
    "   * India loss it's 70% of toss also loss toss in the final.\n",
    "   * Highest views a match is on India v/s Pakistan as top rival of team India is Pakistan.\n",
    "   * Virat Kohli scored 3 centuries in the world cup which is the highest century count in Team India.\n"
   ]
  }
 ],
 "metadata": {
  "kernelspec": {
   "display_name": "Python 3 (ipykernel)",
   "language": "python",
   "name": "python3"
  },
  "language_info": {
   "codemirror_mode": {
    "name": "ipython",
    "version": 3
   },
   "file_extension": ".py",
   "mimetype": "text/x-python",
   "name": "python",
   "nbconvert_exporter": "python",
   "pygments_lexer": "ipython3",
   "version": "3.10.11"
  }
 },
 "nbformat": 4,
 "nbformat_minor": 5
}
